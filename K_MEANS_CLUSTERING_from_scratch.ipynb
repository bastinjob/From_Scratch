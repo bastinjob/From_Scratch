{
 "cells": [
  {
   "cell_type": "code",
   "execution_count": 1,
   "metadata": {},
   "outputs": [],
   "source": [
    "import numpy as np"
   ]
  },
  {
   "cell_type": "code",
   "execution_count": 2,
   "metadata": {},
   "outputs": [
    {
     "data": {
      "text/plain": [
       "'\\nSteps:\\n1. Initialize the centroids by randomly selecting a subset of the data points\\n2. Calculate distance of each data point from the centroids and assign the nearest centroid to the data point\\n3. Update the centroid as the mean of the points associated to that centroid\\n4. Repeat steps 2 and 3 until convergence - the mean doesnt change beyond a threshold or, within a set number of iterations\\n'"
      ]
     },
     "execution_count": 2,
     "metadata": {},
     "output_type": "execute_result"
    }
   ],
   "source": [
    "'''\n",
    "Steps:\n",
    "1. Initialize the centroids by randomly selecting a subset of the data points\n",
    "2. Calculate distance of each data point from the centroids and assign the nearest centroid to the data point\n",
    "3. Update the centroid as the mean of the points associated to that centroid\n",
    "4. Repeat steps 2 and 3 until convergence - the mean doesnt change beyond a threshold or, within a set number of iterations\n",
    "'''"
   ]
  },
  {
   "cell_type": "code",
   "execution_count": 54,
   "metadata": {},
   "outputs": [],
   "source": [
    "#Initiaize the centroids\n",
    "\n",
    "def initializeCentroids(X,k)->list:\n",
    "    '''\n",
    "    Input: X -> input data points\n",
    "            k -> number of cluster\n",
    "\n",
    "    Output: an array of size (k,X.shape[1])\n",
    "    '''\n",
    "\n",
    "    indices =  np.random.choice(X.shape[0],k, replace=False)\n",
    "    return X[indices]"
   ]
  },
  {
   "cell_type": "code",
   "execution_count": 55,
   "metadata": {},
   "outputs": [
    {
     "name": "stdout",
     "output_type": "stream",
     "text": [
      "Initial centroids:\n",
      " [[1 2]\n",
      " [4 4]]\n"
     ]
    }
   ],
   "source": [
    "X = np.array([[1, 2], [1, 4], [1, 0], [4, 2], [4, 4], [4, 0]])\n",
    "k = 2\n",
    "centroids = initializeCentroids(X, k)\n",
    "print(\"Initial centroids:\\n\", centroids)"
   ]
  },
  {
   "cell_type": "code",
   "execution_count": 56,
   "metadata": {},
   "outputs": [],
   "source": [
    "#Assign clusters\n",
    "\n",
    "def assignCluster(X,centroids):\n",
    "    '''\n",
    "    Input: X-> input data\n",
    "           centroids -> centroids\n",
    "    Output:\n",
    "\n",
    "    '''\n",
    "\n",
    "    for x in X:\n",
    "        distance = np.sqrt(((X-centroids[:,np.newaxis])**2).sum(axis=2))\n",
    "        return np.argmin(distance, axis=0)"
   ]
  },
  {
   "cell_type": "code",
   "execution_count": 57,
   "metadata": {},
   "outputs": [
    {
     "data": {
      "text/plain": [
       "array([0, 0, 0, 1, 1, 0])"
      ]
     },
     "execution_count": 57,
     "metadata": {},
     "output_type": "execute_result"
    }
   ],
   "source": [
    "assignCluster(X,centroids)"
   ]
  },
  {
   "cell_type": "code",
   "execution_count": 58,
   "metadata": {},
   "outputs": [],
   "source": [
    "#Update clusters to the mean of points assigned to that cluster\n",
    "def updateCentroids(X, labels, k):\n",
    "    \"\"\"Update the centroids as the mean of the assigned data points.\"\"\"\n",
    "    new_centroids = np.array([X[labels == i].mean(axis=0) for i in range(k)])\n",
    "    return new_centroids"
   ]
  },
  {
   "cell_type": "code",
   "execution_count": 61,
   "metadata": {},
   "outputs": [],
   "source": [
    "def kmeans(X, k, max_iters=100, tol=1e-4):\n",
    "    \"\"\"Perform K-means clustering on the dataset X.\"\"\"\n",
    "    centroids = initializeCentroids(X, k)\n",
    "    for _ in range(max_iters):\n",
    "        labels = assignCluster(X, centroids)\n",
    "        new_centroids = updateCentroids(X, labels, k)\n",
    "        # Check for convergence (if centroids do not change)\n",
    "        if np.all(np.abs(new_centroids - centroids) < tol):\n",
    "            break\n",
    "        centroids = new_centroids\n",
    "    return centroids, labels"
   ]
  },
  {
   "cell_type": "code",
   "execution_count": 62,
   "metadata": {},
   "outputs": [
    {
     "data": {
      "text/plain": [
       "(array([[4., 4.],\n",
       "        [4., 1.],\n",
       "        [1., 2.]]),\n",
       " array([2, 2, 2, 1, 0, 1]))"
      ]
     },
     "execution_count": 62,
     "metadata": {},
     "output_type": "execute_result"
    }
   ],
   "source": [
    "kmeans(X,3, max_iters=100)"
   ]
  },
  {
   "cell_type": "code",
   "execution_count": null,
   "metadata": {},
   "outputs": [],
   "source": []
  }
 ],
 "metadata": {
  "kernelspec": {
   "display_name": "ml_ppl",
   "language": "python",
   "name": "python3"
  },
  "language_info": {
   "codemirror_mode": {
    "name": "ipython",
    "version": 3
   },
   "file_extension": ".py",
   "mimetype": "text/x-python",
   "name": "python",
   "nbconvert_exporter": "python",
   "pygments_lexer": "ipython3",
   "version": "3.9.5"
  }
 },
 "nbformat": 4,
 "nbformat_minor": 2
}
