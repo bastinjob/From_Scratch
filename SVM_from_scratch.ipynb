{
 "cells": [
  {
   "cell_type": "markdown",
   "metadata": {},
   "source": [
    "Support Vector Machine alogorithms from scratch"
   ]
  },
  {
   "cell_type": "markdown",
   "metadata": {},
   "source": [
    "Objective: minimize 1/2*||w.w|| + C*1/N*Sum(max(0,1-y*(wx+b)))"
   ]
  },
  {
   "cell_type": "code",
   "execution_count": 1,
   "metadata": {},
   "outputs": [],
   "source": [
    "import numpy as np"
   ]
  },
  {
   "cell_type": "code",
   "execution_count": 4,
   "metadata": {},
   "outputs": [],
   "source": [
    "class SVM:\n",
    "    '''\n",
    "    to find the most optimla value of w  and b\n",
    "    train ->\n",
    "        y_i = 1, w.x_i + b >0\n",
    "              0, otherwise\n",
    "         iterator over all samples, compute the cost fucntion : 1/2*||w.w|| + C/n_samples*y_i\n",
    "         at each epoch, compute the derivate of the cost function :\n",
    "            \n",
    "        hinge loss = C/n_samples  * max()\n",
    "    prediction -> y = sign(w.x + b) \n",
    "    '''\n",
    "    def __init__(self, n_iters = 1000, learning_rate=0.0001, C = 0.1):\n",
    "        self.n_iters = n_iters\n",
    "        self.learning_rate = learning_rate\n",
    "        self.C = C\n",
    "        \n",
    "\n",
    "    def fit(self,X,y):\n",
    "\n",
    "        y = np.where(y<=0, -1,1) \n",
    "        \n",
    "        n_samples, n_features = X.shape\n",
    "        self.w = np.zeros(n_features)\n",
    "        self.b = 0\n",
    "\n",
    "\n",
    "        pass\n",
    "\n",
    "    def predict(self,features):\n",
    "        \n",
    "        \n",
    "        pass\n",
    "        "
   ]
  },
  {
   "cell_type": "code",
   "execution_count": null,
   "metadata": {},
   "outputs": [],
   "source": []
  }
 ],
 "metadata": {
  "kernelspec": {
   "display_name": "ml_ppl",
   "language": "python",
   "name": "python3"
  },
  "language_info": {
   "codemirror_mode": {
    "name": "ipython",
    "version": 3
   },
   "file_extension": ".py",
   "mimetype": "text/x-python",
   "name": "python",
   "nbconvert_exporter": "python",
   "pygments_lexer": "ipython3",
   "version": "3.8.10"
  }
 },
 "nbformat": 4,
 "nbformat_minor": 2
}
